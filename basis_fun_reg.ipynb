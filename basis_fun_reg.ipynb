{
  "nbformat": 4,
  "nbformat_minor": 0,
  "metadata": {
    "colab": {
      "provenance": [],
      "toc_visible": true,
      "authorship_tag": "ABX9TyO5ItHzmOezXqhY3h2iLz43",
      "include_colab_link": true
    },
    "kernelspec": {
      "name": "python3",
      "display_name": "Python 3"
    },
    "language_info": {
      "name": "python"
    }
  },
  "cells": [
    {
      "cell_type": "markdown",
      "metadata": {
        "id": "view-in-github",
        "colab_type": "text"
      },
      "source": [
        "<a href=\"https://colab.research.google.com/github/simonsavine/school_projects/blob/main/basis_fun_reg.ipynb\" target=\"_parent\"><img src=\"https://colab.research.google.com/assets/colab-badge.svg\" alt=\"Open In Colab\"/></a>"
      ]
    },
    {
      "cell_type": "code",
      "execution_count": 1,
      "metadata": {
        "id": "8IV8tPkXmwWj"
      },
      "outputs": [],
      "source": [
        "# temp"
      ]
    },
    {
      "cell_type": "code",
      "source": [],
      "metadata": {
        "id": "pdjinBvCm4K3"
      },
      "execution_count": null,
      "outputs": []
    }
  ]
}