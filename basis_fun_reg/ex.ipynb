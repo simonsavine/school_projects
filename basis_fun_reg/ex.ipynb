{
  "nbformat": 4,
  "nbformat_minor": 0,
  "metadata": {
    "colab": {
      "provenance": [],
      "authorship_tag": "ABX9TyMjzbbr/xUyTxKFsC5c2HwS",
      "include_colab_link": true
    },
    "kernelspec": {
      "name": "python3",
      "display_name": "Python 3"
    },
    "language_info": {
      "name": "python"
    }
  },
  "cells": [
    {
      "cell_type": "markdown",
      "metadata": {
        "id": "view-in-github",
        "colab_type": "text"
      },
      "source": [
        "<a href=\"https://colab.research.google.com/github/simonsavine/school_projects/blob/main/basis_fun_reg/ex.ipynb\" target=\"_parent\"><img src=\"https://colab.research.google.com/assets/colab-badge.svg\" alt=\"Open In Colab\"/></a>"
      ]
    },
    {
      "cell_type": "code",
      "execution_count": 2,
      "metadata": {
        "colab": {
          "base_uri": "https://localhost:8080/"
        },
        "id": "HOhPZ2EQshmk",
        "outputId": "98058050-252f-46c2-84c1-9bf6ea9ff8d4"
      },
      "outputs": [
        {
          "output_type": "stream",
          "name": "stdout",
          "text": [
            "Cloning into 'school_projects'...\n",
            "remote: Enumerating objects: 26, done.\u001b[K\n",
            "remote: Counting objects: 100% (26/26), done.\u001b[K\n",
            "remote: Compressing objects: 100% (17/17), done.\u001b[K\n",
            "remote: Total 26 (delta 2), reused 0 (delta 0), pack-reused 0 (from 0)\u001b[K\n",
            "Receiving objects: 100% (26/26), 8.78 KiB | 8.78 MiB/s, done.\n",
            "Resolving deltas: 100% (2/2), done.\n"
          ]
        }
      ],
      "source": [
        "!git clone https://github.com/simonsavine/school_projects.git"
      ]
    },
    {
      "cell_type": "code",
      "source": [
        "import numpy as np\n",
        "import matplotlib.pyplot as plt"
      ],
      "metadata": {
        "id": "-O57K9Ezsoo6"
      },
      "execution_count": 3,
      "outputs": []
    },
    {
      "cell_type": "code",
      "source": [
        "# load data\n",
        "npdata = np.load(\"/content/school_projects/basis_fun_reg/FitData.npy\")\n",
        "xs, ys = npdata[:,0], npdata[:,1]\n",
        "plt.plot(xs, ys, \"o\")"
      ],
      "metadata": {
        "colab": {
          "base_uri": "https://localhost:8080/",
          "height": 448
        },
        "id": "9EHnKAbs0qYU",
        "outputId": "d68b21c2-95d3-4728-ee73-598744ace000"
      },
      "execution_count": 8,
      "outputs": [
        {
          "output_type": "execute_result",
          "data": {
            "text/plain": [
              "[<matplotlib.lines.Line2D at 0x7d10e7f5de10>]"
            ]
          },
          "metadata": {},
          "execution_count": 8
        },
        {
          "output_type": "display_data",
          "data": {
            "text/plain": [
              "<Figure size 640x480 with 1 Axes>"
            ],
            "image/png": "[encoded data removed]"
          },
          "metadata": {}
        }
      ]
    },
    {
      "cell_type": "code",
      "source": [
        "# sort the data by ascending xs\n",
        "# (necessary in order to plot a line)\n",
        "idx = np.argsort(xs)\n",
        "xs = xs[idx]\n",
        "ys = ys[idx]"
      ],
      "metadata": {
        "id": "qTd03IUl0sKB"
      },
      "execution_count": 35,
      "outputs": []
    },
    {
      "cell_type": "markdown",
      "source": [
        "The 6 basis functions are:\n",
        "\n",
        "*   $f_1(x) = 1$\n",
        "*   $f_2(x) = x$\n",
        "*   $f_3(x) = \\sin(x)$\n",
        "*   $f_4(x) = \\cos(x)$\n",
        "*   $f_5(x) = \\sin(2x)$\n",
        "*   $f_6(x) = \\cos(2x)$\n",
        "\n",
        "\n",
        "\n",
        "\n"
      ],
      "metadata": {
        "id": "4iamz9Ex1h0k"
      }
    },
    {
      "cell_type": "markdown",
      "source": [],
      "metadata": {
        "id": "YtCWb6Ry002z"
      }
    },
    {
      "cell_type": "code",
      "source": [
        "# create a matrix A of basis functions stacked in columns"
      ],
      "metadata": {
        "id": "WCZxAohv2Lek"
      },
      "execution_count": 48,
      "outputs": []
    },
    {
      "cell_type": "code",
      "source": [
        "def f1(x):\n",
        "  return 1\n",
        "\n",
        "def f2(x):\n",
        "  return x\n",
        "\n",
        "def f3(x):\n",
        "  return np.sin(x)\n",
        "\n",
        "def f4(x):\n",
        "  return np.cos(x)\n",
        "\n",
        "def f5(x):\n",
        "  return np.sin(2*x)\n",
        "\n",
        "def f6(x):\n",
        "  return np.cos(2*x)\n",
        "\n",
        "m = len(xs)\n",
        "n = 6\n",
        "A = np.zeros((m, n))\n",
        "A[:, 0] = f1(xs)\n",
        "A[:, 1] = f2(xs)\n",
        "A[:, 2] = f3(xs)\n",
        "A[:, 3] = f4(xs)\n",
        "A[:, 4] = f5(xs)\n",
        "A[:, 5] = f6(xs)"
      ],
      "metadata": {
        "id": "ggr1gir-2SMm"
      },
      "execution_count": 49,
      "outputs": []
    },
    {
      "cell_type": "code",
      "source": [
        "# check collinearity\n",
        "\n",
        "# determinant is (significantly) different from 0, all good\n",
        "print (f\"determinant of A'A: {np.linalg.det(A.T @ A)}\")\n",
        "assert np.abs(np.linalg.det(A.T @ A)) > 1e-10"
      ],
      "metadata": {
        "colab": {
          "base_uri": "https://localhost:8080/"
        },
        "id": "pYTb97cE2vzB",
        "outputId": "90bcb302-4f8e-4d60-81b4-8dbd5475136d"
      },
      "execution_count": 51,
      "outputs": [
        {
          "output_type": "stream",
          "name": "stdout",
          "text": [
            "determinant of A'A: 397951630266.40533\n"
          ]
        }
      ]
    },
    {
      "cell_type": "code",
      "source": [
        "# fit linear model y = A @ c\n",
        "\n",
        "# first method: explicit instantiation of normal equation\n",
        "c1 = np.linalg.inv(A.T @ A) @ A.T @ ys\n",
        "\n",
        "# second method: call np.linalg.solve\n",
        "# more efficient, see https://stackoverflow.com/questions/31256252/why-does-numpy-linalg-solve-offer-more-precise-matrix-inversions-than-numpy-li\n",
        "c2 = np.linalg.solve(A.T @ A, A.T @ ys)\n",
        "\n",
        "# ensure that the two are the same\n",
        "assert np.allclose(c1, c2)\n",
        "c = c1\n",
        "\n",
        "# sanity check\n",
        "assert c.shape == (n,)\n",
        "\n",
        "# Dispplay it\n",
        "c"
      ],
      "metadata": {
        "colab": {
          "base_uri": "https://localhost:8080/"
        },
        "id": "ksU2MqG125uo",
        "outputId": "b1565177-3810-475c-8015-063ecd9d5089"
      },
      "execution_count": 52,
      "outputs": [
        {
          "output_type": "execute_result",
          "data": {
            "text/plain": [
              "array([ 6.69441211e+00, -1.10425245e+00,  2.41186210e-03,  3.85456384e-03,\n",
              "        2.12476602e-02, -1.36482901e+00])"
            ]
          },
          "metadata": {},
          "execution_count": 52
        }
      ]
    },
    {
      "cell_type": "code",
      "source": [
        "# predict with the fitted model\n",
        "pred = A @ c\n",
        "\n",
        "# plot the results\n",
        "plt.plot(xs, ys, \"bo\")\n",
        "plt.plot(xs, pred, \"r--\")\n",
        "plt.legend()"
      ],
      "metadata": {
        "colab": {
          "base_uri": "https://localhost:8080/",
          "height": 486
        },
        "id": "Fk2wfhUb4cj-",
        "outputId": "d54344f0-dcf6-45d4-d58d-3f844924b410"
      },
      "execution_count": 53,
      "outputs": [
        {
          "output_type": "stream",
          "name": "stderr",
          "text": [
            "WARNING:matplotlib.legend:No artists with labels found to put in legend.  Note that artists whose label start with an underscore are ignored when legend() is called with no argument.\n"
          ]
        },
        {
          "output_type": "execute_result",
          "data": {
            "text/plain": [
              "<matplotlib.legend.Legend at 0x7d10dd15b220>"
            ]
          },
          "metadata": {},
          "execution_count": 53
        },
        {
          "output_type": "display_data",
          "data": {
            "text/plain": [
              "<Figure size 640x480 with 1 Axes>"
            ],
            "image/png": "[encoded data removed]"
          },
          "metadata": {}
        }
      ]
    },
    {
      "cell_type": "code",
      "source": [
        "# measure fit quality\n",
        "err = pred - ys\n",
        "mse = np.mean(err**2)\n",
        "rmse = np.sqrt(mse)\n",
        "print (f\"RMSE: {rmse}\")\n",
        "r2 = 1-mse/np.var(ys)\n",
        "print (f\"R^2: {r2}\")"
      ],
      "metadata": {
        "colab": {
          "base_uri": "https://localhost:8080/"
        },
        "id": "rr9fCsyl4tsv",
        "outputId": "f22b638c-05a8-4487-ffe3-a0c9dbaf695f"
      },
      "execution_count": 54,
      "outputs": [
        {
          "output_type": "stream",
          "name": "stdout",
          "text": [
            "RMSE: 0.3302325933189421\n",
            "R^2: 0.9909476262463497\n"
          ]
        }
      ]
    },
    {
      "cell_type": "markdown",
      "source": [
        "Using basis functions $g_1(x) = 1, g_2(x) = x, g_3(x) = sin^2(x), g_4(x) = cos^2(x)$ is a bad idea because $sin^2(x) + cos^2(x) = 1$ for all x, hence $f_1 = f_3 + f_4$. Therefore, this set of functions is linearly redundant, as demonstrated below"
      ],
      "metadata": {
        "id": "sM2PhiNG6cVA"
      }
    },
    {
      "cell_type": "code",
      "source": [
        "def g1(x):\n",
        "  return 1\n",
        "\n",
        "def g2(x):\n",
        "  return x\n",
        "\n",
        "def g3(x):\n",
        "  return np.sin(x)**2\n",
        "\n",
        "def g4(x):\n",
        "  return np.cos(x)**2\n",
        "\n",
        "p = 4\n",
        "B = np.zeros((m, n))\n",
        "B[:, 0] = f1(xs)\n",
        "B[:, 1] = f2(xs)\n",
        "B[:, 2] = f3(xs)\n",
        "B[:, 3] = f4(xs)\n",
        "\n",
        "# determinant is 0, B is collinear\n",
        "print (f\"determinant of B'B: {np.linalg.det(B.T @ B)}\")"
      ],
      "metadata": {
        "colab": {
          "base_uri": "https://localhost:8080/"
        },
        "id": "omAvqMCy7Div",
        "outputId": "53cedc60-b3c6-43e3-d04b-eed4c1b57466"
      },
      "execution_count": 55,
      "outputs": [
        {
          "output_type": "stream",
          "name": "stdout",
          "text": [
            "determinant of B'B: 0.0\n"
          ]
        }
      ]
    },
    {
      "cell_type": "code",
      "source": [],
      "metadata": {
        "id": "Q_2SU3KO8Va7"
      },
      "execution_count": null,
      "outputs": []
    }
  ]
}